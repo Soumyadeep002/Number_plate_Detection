{
 "cells": [
  {
   "cell_type": "code",
   "execution_count": 41,
   "metadata": {},
   "outputs": [],
   "source": [
    "from ultralytics import YOLO"
   ]
  },
  {
   "cell_type": "code",
   "execution_count": 42,
   "metadata": {},
   "outputs": [],
   "source": [
    "coco_model = YOLO('yolov8n.pt')\n",
    "# model.to('cuda')"
   ]
  },
  {
   "cell_type": "code",
   "execution_count": 43,
   "metadata": {},
   "outputs": [],
   "source": [
    "# model.predict(source=\"data/Datacluster_number_plates (95).jpg\")"
   ]
  },
  {
   "cell_type": "code",
   "execution_count": 44,
   "metadata": {},
   "outputs": [],
   "source": [
    "# model.train(data=\"data.yaml\", epochs=50)"
   ]
  },
  {
   "cell_type": "code",
   "execution_count": 65,
   "metadata": {},
   "outputs": [],
   "source": [
    "my_model = YOLO('best.pt')"
   ]
  },
  {
   "cell_type": "code",
   "execution_count": 69,
   "metadata": {},
   "outputs": [
    {
     "name": "stderr",
     "output_type": "stream",
     "text": [
      "\n",
      "image 1/1 E:\\My Projects\\Number Plate detection\\data\\images\\train\\00000046.jpg: 640x448 2 Back Plates, 86.6ms\n",
      "Speed: 2.0ms preprocess, 86.6ms inference, 0.0ms postprocess per image at shape (1, 3, 640, 448)\n"
     ]
    },
    {
     "data": {
      "text/plain": [
       "ultralytics.engine.results.Results object with attributes:\n",
       "\n",
       "boxes: ultralytics.engine.results.Boxes object\n",
       "keypoints: None\n",
       "masks: None\n",
       "names: {0: 'Front Plate', 1: 'Back Plate'}\n",
       "orig_img: array([[[245, 245, 245],\n",
       "        [245, 245, 245],\n",
       "        [251, 253, 253],\n",
       "        ...,\n",
       "        [249, 255, 250],\n",
       "        [241, 247, 242],\n",
       "        [250, 255, 251]],\n",
       "\n",
       "       [[255, 255, 255],\n",
       "        [254, 254, 254],\n",
       "        [253, 255, 255],\n",
       "        ...,\n",
       "        [251, 255, 252],\n",
       "        [243, 249, 244],\n",
       "        [250, 255, 251]],\n",
       "\n",
       "       [[244, 244, 244],\n",
       "        [246, 246, 246],\n",
       "        [253, 255, 255],\n",
       "        ...,\n",
       "        [251, 255, 252],\n",
       "        [245, 251, 246],\n",
       "        [253, 255, 252]],\n",
       "\n",
       "       ...,\n",
       "\n",
       "       [[250, 250, 250],\n",
       "        [251, 251, 251],\n",
       "        [253, 253, 253],\n",
       "        ...,\n",
       "        [255, 255, 255],\n",
       "        [255, 255, 255],\n",
       "        [255, 255, 255]],\n",
       "\n",
       "       [[250, 250, 250],\n",
       "        [251, 251, 251],\n",
       "        [253, 253, 253],\n",
       "        ...,\n",
       "        [255, 255, 255],\n",
       "        [255, 255, 255],\n",
       "        [255, 255, 255]],\n",
       "\n",
       "       [[250, 250, 250],\n",
       "        [251, 251, 251],\n",
       "        [253, 253, 253],\n",
       "        ...,\n",
       "        [255, 255, 255],\n",
       "        [255, 255, 255],\n",
       "        [255, 255, 255]]], dtype=uint8)\n",
       "orig_shape: (500, 335)\n",
       "path: 'E:\\\\My Projects\\\\Number Plate detection\\\\data\\\\images\\\\train\\\\00000046.jpg'\n",
       "probs: None\n",
       "save_dir: None\n",
       "speed: {'preprocess': 1.9993782043457031, 'inference': 86.58123016357422, 'postprocess': 0.0}"
      ]
     },
     "execution_count": 69,
     "metadata": {},
     "output_type": "execute_result"
    }
   ],
   "source": [
    "detections = my_model(\"E:\\\\My Projects\\\\Number Plate detection\\\\data\\\\images\\\\train\\\\00000046.jpg\")[0]\n",
    "detections"
   ]
  },
  {
   "cell_type": "code",
   "execution_count": 70,
   "metadata": {},
   "outputs": [],
   "source": [
    "detections_ = []\n",
    "for detection in detections.boxes.data.tolist():\n",
    "    x1, y1, x2, y2, score, class_id = detection\n",
    "    detections_.append([x1, y1, x2, y2, score])"
   ]
  },
  {
   "cell_type": "code",
   "execution_count": 74,
   "metadata": {},
   "outputs": [
    {
     "data": {
      "text/plain": [
       "[25.821495056152344,\n",
       " 328.33587646484375,\n",
       " 320.16925048828125,\n",
       " 477.8818359375,\n",
       " 0.5899409651756287]"
      ]
     },
     "execution_count": 74,
     "metadata": {},
     "output_type": "execute_result"
    }
   ],
   "source": [
    "prediction = detections_[0]\n",
    "prediction"
   ]
  },
  {
   "cell_type": "code",
   "execution_count": null,
   "metadata": {},
   "outputs": [],
   "source": []
  }
 ],
 "metadata": {
  "kernelspec": {
   "display_name": "Python 3",
   "language": "python",
   "name": "python3"
  },
  "language_info": {
   "codemirror_mode": {
    "name": "ipython",
    "version": 3
   },
   "file_extension": ".py",
   "mimetype": "text/x-python",
   "name": "python",
   "nbconvert_exporter": "python",
   "pygments_lexer": "ipython3",
   "version": "3.10.10"
  },
  "orig_nbformat": 4
 },
 "nbformat": 4,
 "nbformat_minor": 2
}
